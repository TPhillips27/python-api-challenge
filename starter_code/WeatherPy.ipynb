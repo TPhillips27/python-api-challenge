{
 "cells": [
  {
   "cell_type": "markdown",
   "metadata": {},
   "source": [
    "# WeatherPy\n",
    "----\n",
    "\n",
    "#### Note\n",
    "* Instructions have been included for each segment. You do not have to follow them exactly, but they are included to help you think through the steps."
   ]
  },
  {
   "cell_type": "code",
   "execution_count": 1,
   "metadata": {
    "scrolled": true
   },
   "outputs": [],
   "source": [
    "# Dependencies and Setup\n",
    "import matplotlib.pyplot as plt\n",
    "import pandas as pd\n",
    "import numpy as np\n",
    "import requests\n",
    "import time\n",
    "from scipy.stats import linregress\n",
    "\n",
    "# Import API key\n",
    "from api_keys import weather_api\n",
    "\n",
    "# Incorporated citipy to determine city based on latitude and longitude\n",
    "# from citipy import citipy\n",
    "\n",
    "# Output File (CSV)\n",
    "output_data_file = \"output_data/cities.csv\"\n",
    "\n",
    "# Range of latitudes and longitudes\n",
    "lat_range = (-90, 90)\n",
    "lng_range = (-180, 180)"
   ]
  },
  {
   "cell_type": "markdown",
   "metadata": {},
   "source": [
    "## Generate Cities List"
   ]
  },
  {
   "cell_type": "code",
   "execution_count": 2,
   "metadata": {},
   "outputs": [
    {
     "data": {
      "text/plain": [
       "268"
      ]
     },
     "execution_count": 2,
     "metadata": {},
     "output_type": "execute_result"
    }
   ],
   "source": [
    "from citipy import citipy\n",
    "# List for holding lat_lngs and cities\n",
    "lat_lngs = []\n",
    "cities = []\n",
    "\n",
    "# Create a set of random lat and lng combinations\n",
    "lats = np.random.uniform(lat_range[0], lat_range[1], size=500)\n",
    "lngs = np.random.uniform(lng_range[0], lng_range[1], size=500)\n",
    "lat_lngs = zip(lats, lngs)\n",
    "\n",
    "# Identify nearest city for each lat, lng combination\n",
    "for lat_lng in lat_lngs:\n",
    "    city = citipy.nearest_city(lat_lng[0], lat_lng[1]).city_name\n",
    "    \n",
    "    # If the city is unique, then add it to a our cities list\n",
    "    if city not in cities:\n",
    "        cities.append(city)\n",
    "\n",
    "# Print the city count to confirm sufficient count\n",
    "len(cities)\n",
    "# print(cities)"
   ]
  },
  {
   "cell_type": "markdown",
   "metadata": {},
   "source": [
    "### Perform API Calls\n",
    "* Perform a weather check on each city using a series of successive API calls.\n",
    "* Include a print log of each city as it'sbeing processed (with the city number and city name).\n"
   ]
  },
  {
   "cell_type": "code",
   "execution_count": 3,
   "metadata": {},
   "outputs": [],
   "source": [
    "# config information\n",
    "weather_api = ''\n",
    "url = 'http://api.openweathermap.org/data/2.5/weather?' \n",
    "units = 'imperial'\n",
    "\n",
    "\n",
    "# Build partial query URL\n",
    "query_url = url + \"appid=\" + weather_api + \"&units=\" + units + \"&q=\"\n",
    "query_url"
   ]
  },
  {
   "cell_type": "code",
   "execution_count": 5,
   "metadata": {},
   "outputs": [
    {
     "name": "stdout",
     "output_type": "stream",
     "text": [
      "Beginning Data Retrieval\n",
      "------------------------\n",
      "Processing Record 1 | cape town\n",
      "Processing Record 2 | west lake stevens\n",
      "Processing Record 3 | saint-leu\n",
      "Processing Record 4 | punta arenas\n",
      "Processing Record 5 | yellowknife\n",
      "Processing Record 6 | port alfred\n",
      "Processing Record 7 | puerto ayora\n",
      "Processing Record 8 | bundaberg\n",
      "Processing Record 9 | barrow\n",
      "Processing Record 10 | marsh harbour\n",
      "Processing Record 11 | barentsburg\n",
      "city name not found\n",
      "Processing Record 12 | olafsvik\n",
      "Processing Record 13 | ushuaia\n",
      "Processing Record 14 | amderma\n",
      "city name not found\n",
      "Processing Record 15 | oranjemund\n",
      "Processing Record 16 | bethel\n",
      "Processing Record 17 | rikitea\n",
      "Processing Record 18 | port blair\n",
      "Processing Record 19 | korla\n",
      "Processing Record 20 | tripoli\n",
      "Processing Record 21 | harper\n",
      "Processing Record 22 | bereda\n",
      "Processing Record 23 | hermanus\n",
      "Processing Record 24 | pevek\n",
      "Processing Record 25 | east london\n",
      "Processing Record 26 | mar del plata\n",
      "Processing Record 27 | krasnaya gorka\n",
      "Processing Record 28 | saint george\n",
      "Processing Record 29 | tuktoyaktuk\n",
      "Processing Record 30 | lavrentiya\n",
      "Processing Record 31 | saint-philippe\n",
      "Processing Record 32 | richards bay\n",
      "Processing Record 33 | zarand\n",
      "Processing Record 34 | nytva\n",
      "Processing Record 35 | talara\n",
      "Processing Record 36 | mogadishu\n",
      "Processing Record 37 | salym\n",
      "Processing Record 38 | capitao poco\n",
      "Processing Record 39 | ponta do sol\n",
      "Processing Record 40 | busselton\n",
      "Processing Record 41 | yulara\n",
      "Processing Record 42 | carnarvon\n",
      "Processing Record 43 | honiara\n",
      "Processing Record 44 | mazatlan\n",
      "Processing Record 45 | longyearbyen\n",
      "Processing Record 46 | severo-kurilsk\n",
      "Processing Record 47 | bredasdorp\n",
      "Processing Record 48 | taolanaro\n",
      "city name not found\n",
      "Processing Record 49 | butaritari\n",
      "Processing Record 50 | ostersund\n",
      "Processing Record 51 | la ronge\n",
      "Processing Record 52 | esperance\n",
      "Processing Record 53 | waipawa\n",
      "Processing Record 54 | palabuhanratu\n",
      "city name not found\n",
      "Processing Record 55 | chokurdakh\n",
      "Processing Record 56 | fort nelson\n",
      "Processing Record 57 | do gonbadan\n",
      "Processing Record 58 | illoqqortoormiut\n",
      "city name not found\n",
      "Processing Record 59 | leningradskiy\n",
      "Processing Record 60 | nagari\n",
      "Processing Record 61 | havelock\n",
      "Processing Record 62 | smirnykh\n",
      "Processing Record 63 | mataura\n",
      "Processing Record 64 | hilo\n",
      "Processing Record 65 | hobart\n",
      "Processing Record 66 | krosno\n",
      "Processing Record 67 | baykit\n",
      "Processing Record 68 | safaga\n",
      "Processing Record 69 | georgetown\n",
      "Processing Record 70 | ayagoz\n",
      "Processing Record 71 | khatanga\n",
      "Processing Record 72 | lebyazhye\n",
      "Processing Record 73 | nizhneyansk\n",
      "city name not found\n",
      "Processing Record 74 | saint-joseph\n",
      "Processing Record 75 | prince george\n",
      "Processing Record 76 | albany\n",
      "Processing Record 77 | jinxiang\n",
      "Processing Record 78 | porto uniao\n",
      "Processing Record 79 | talcahuano\n",
      "Processing Record 80 | koulikoro\n",
      "Processing Record 81 | pietarsaari\n",
      "Processing Record 82 | arlit\n",
      "Processing Record 83 | lompoc\n",
      "Processing Record 84 | vaini\n",
      "Processing Record 85 | faanui\n",
      "Processing Record 86 | labelle\n",
      "Processing Record 87 | wabana\n",
      "Processing Record 88 | gouloure\n",
      "Processing Record 89 | mooresville\n",
      "Processing Record 90 | saleaula\n",
      "city name not found\n",
      "Processing Record 91 | sokur\n",
      "Processing Record 92 | kapaa\n",
      "Processing Record 93 | provideniya\n",
      "Processing Record 94 | atuona\n",
      "Processing Record 95 | belushya guba\n",
      "city name not found\n",
      "Processing Record 96 | alta floresta\n",
      "Processing Record 97 | sisimiut\n",
      "Processing Record 98 | victoria\n",
      "Processing Record 99 | hithadhoo\n",
      "Processing Record 100 | sentyabrskiy\n",
      "city name not found\n",
      "Processing Record 101 | faranah\n",
      "Processing Record 102 | port elizabeth\n",
      "Processing Record 103 | zaysan\n",
      "Processing Record 104 | cobija\n",
      "Processing Record 105 | geresk\n",
      "city name not found\n",
      "Processing Record 106 | margate\n",
      "Processing Record 107 | thompson\n",
      "Processing Record 108 | bagdarin\n",
      "Processing Record 109 | linqiong\n",
      "Processing Record 110 | penzance\n",
      "Processing Record 111 | karkaralinsk\n",
      "city name not found\n",
      "Processing Record 112 | marcona\n",
      "city name not found\n",
      "Processing Record 113 | grand river south east\n",
      "city name not found\n",
      "Processing Record 114 | mordovo\n",
      "Processing Record 115 | constitucion\n",
      "Processing Record 116 | mamallapuram\n",
      "Processing Record 117 | tsihombe\n",
      "city name not found\n",
      "Processing Record 118 | sinnamary\n",
      "Processing Record 119 | kodiak\n",
      "Processing Record 120 | mys shmidta\n",
      "city name not found\n",
      "Processing Record 121 | ojiya\n",
      "Processing Record 122 | shelburne\n",
      "Processing Record 123 | pisco\n",
      "Processing Record 124 | bluff\n",
      "Processing Record 125 | dikson\n",
      "Processing Record 126 | los llanos de aridane\n",
      "Processing Record 127 | petropavlovsk-kamchatskiy\n",
      "Processing Record 128 | bjala\n",
      "city name not found\n",
      "Processing Record 129 | half moon bay\n",
      "Processing Record 130 | nanortalik\n",
      "Processing Record 131 | sandnessjoen\n",
      "Processing Record 132 | north platte\n",
      "Processing Record 133 | okhotsk\n",
      "Processing Record 134 | kununurra\n",
      "Processing Record 135 | djibo\n",
      "Processing Record 136 | vao\n",
      "Processing Record 137 | bac lieu\n",
      "Processing Record 138 | novikovo\n",
      "Processing Record 139 | abha\n",
      "Processing Record 140 | tecpan\n",
      "Processing Record 141 | buchanan\n",
      "Processing Record 142 | nikolskoye\n",
      "Processing Record 143 | hasaki\n",
      "Processing Record 144 | hambantota\n",
      "Processing Record 145 | ust-tsilma\n",
      "Processing Record 146 | acapulco\n",
      "Processing Record 147 | attawapiskat\n",
      "city name not found\n",
      "Processing Record 148 | vestmanna\n",
      "Processing Record 149 | xining\n",
      "Processing Record 150 | denpasar\n",
      "Processing Record 151 | jamestown\n",
      "Processing Record 152 | hami\n",
      "Processing Record 153 | qaanaaq\n",
      "Processing Record 154 | kaitangata\n",
      "Processing Record 155 | mount isa\n",
      "Processing Record 156 | nehe\n",
      "Processing Record 157 | gasa\n",
      "Processing Record 158 | saldanha\n",
      "Processing Record 159 | bambous virieux\n",
      "Processing Record 160 | aswan\n",
      "Processing Record 161 | rocha\n",
      "Processing Record 162 | yamada\n",
      "Processing Record 163 | te anau\n",
      "Processing Record 164 | paamiut\n",
      "Processing Record 165 | beringovskiy\n",
      "Processing Record 166 | cavalcante\n",
      "Processing Record 167 | shubarshi\n",
      "Processing Record 168 | namibe\n",
      "Processing Record 169 | puerto del rosario\n",
      "Processing Record 170 | labutta\n",
      "city name not found\n",
      "Processing Record 171 | ghanzi\n",
      "Processing Record 172 | port lincoln\n",
      "Processing Record 173 | bowen\n",
      "Processing Record 174 | arraial do cabo\n",
      "Processing Record 175 | airai\n",
      "Processing Record 176 | castro\n",
      "Processing Record 177 | luanda\n",
      "Processing Record 178 | san andres\n",
      "Processing Record 179 | husavik\n",
      "Processing Record 180 | samusu\n",
      "city name not found\n",
      "Processing Record 181 | port hardy\n",
      "Processing Record 182 | mahebourg\n",
      "Processing Record 183 | merauke\n",
      "Processing Record 184 | banikoara\n",
      "Processing Record 185 | virginia beach\n",
      "Processing Record 186 | fairbanks\n",
      "Processing Record 187 | sembakung\n",
      "Processing Record 188 | ardakan\n",
      "Processing Record 189 | temaraia\n",
      "city name not found\n",
      "Processing Record 190 | saint-francois\n",
      "Processing Record 191 | foumban\n",
      "Processing Record 192 | tokur\n",
      "Processing Record 193 | guerrero negro\n",
      "Processing Record 194 | ribeira grande\n",
      "Processing Record 195 | khasan\n",
      "Processing Record 196 | pocao de pedras\n",
      "Processing Record 197 | umm kaddadah\n",
      "Processing Record 198 | salalah\n",
      "Processing Record 199 | lebu\n",
      "Processing Record 200 | kazerun\n",
      "Processing Record 201 | tautira\n",
      "Processing Record 202 | kwinana\n",
      "Processing Record 203 | antalaha\n",
      "Processing Record 204 | lalomanu\n",
      "city name not found\n",
      "Processing Record 205 | belmonte\n",
      "Processing Record 206 | ulladulla\n",
      "Processing Record 207 | chapais\n",
      "Processing Record 208 | ilulissat\n",
      "Processing Record 209 | wilmington\n",
      "Processing Record 210 | beawar\n",
      "Processing Record 211 | beysehir\n",
      "Processing Record 212 | nome\n",
      "Processing Record 213 | ancud\n",
      "Processing Record 214 | kawana waters\n",
      "city name not found\n",
      "Processing Record 215 | banfora\n",
      "Processing Record 216 | necochea\n",
      "Processing Record 217 | miandrivazo\n",
      "Processing Record 218 | palora\n",
      "Processing Record 219 | tumannyy\n",
      "city name not found\n",
      "Processing Record 220 | talawdi\n",
      "city name not found\n",
      "Processing Record 221 | bilyayivka\n",
      "Processing Record 222 | grand-lahou\n",
      "Processing Record 223 | lagoa\n",
      "Processing Record 224 | jackson\n",
      "Processing Record 225 | saint-pierre\n",
      "Processing Record 226 | tiksi\n",
      "Processing Record 227 | sitka\n",
      "Processing Record 228 | shingu\n",
      "Processing Record 229 | upernavik\n",
      "Processing Record 230 | bakel\n",
      "Processing Record 231 | vaitupu\n",
      "city name not found\n",
      "Processing Record 232 | irbil\n"
     ]
    },
    {
     "name": "stdout",
     "output_type": "stream",
     "text": [
      "Processing Record 233 | dingle\n",
      "Processing Record 234 | tuatapere\n",
      "Processing Record 235 | avarua\n",
      "Processing Record 236 | gorin\n",
      "Processing Record 237 | vera cruz\n",
      "Processing Record 238 | aksarka\n",
      "Processing Record 239 | kodinar\n",
      "Processing Record 240 | araouane\n",
      "Processing Record 241 | torbay\n",
      "Processing Record 242 | matagami\n",
      "Processing Record 243 | praia da vitoria\n",
      "Processing Record 244 | shitanjing\n",
      "Processing Record 245 | iranshahr\n",
      "Processing Record 246 | phan rang\n",
      "city name not found\n",
      "Processing Record 247 | vila\n",
      "Processing Record 248 | manubul\n",
      "Processing Record 249 | panukulan\n",
      "Processing Record 250 | taoudenni\n",
      "Processing Record 251 | puerto ayacucho\n",
      "Processing Record 252 | westport\n",
      "Processing Record 253 | yar-sale\n",
      "Processing Record 254 | lasa\n",
      "Processing Record 255 | nyurba\n",
      "Processing Record 256 | camacha\n",
      "Processing Record 257 | pionerskiy\n",
      "Processing Record 258 | tasiilaq\n",
      "Processing Record 259 | vanimo\n",
      "Processing Record 260 | dinga\n",
      "Processing Record 261 | seabra\n",
      "Processing Record 262 | sao filipe\n",
      "Processing Record 263 | bubaque\n",
      "Processing Record 264 | dalbandin\n",
      "Processing Record 265 | abay\n",
      "Processing Record 266 | ginir\n",
      "Processing Record 267 | zheleznodorozhnyy\n",
      "Processing Record 268 | gualaquiza\n",
      "----------------------\n",
      "data retrieval complete\n"
     ]
    }
   ],
   "source": [
    "# set up lists to hold reponse info\n",
    "city_name = []\n",
    "lat = []\n",
    "temp = []\n",
    "humidity = []\n",
    "clouds = []\n",
    "wind = []\n",
    "lng = []\n",
    "country = []\n",
    "date = []\n",
    "\n",
    "# Loop through the list of cities and perform a request for data on each\n",
    "print(\"Beginning Data Retrieval\")\n",
    "print(\"------------------------\")\n",
    "x=0\n",
    "for city in cities:\n",
    "    try:\n",
    "        city_data = requests.get(query_url + city).json()\n",
    "        x=x+1\n",
    "        print(f\"Processing Record {x} | {city}\")\n",
    "        \n",
    "        #assign temp vars\n",
    "        cn = city_data['name']\n",
    "        cty = city_data['sys']['country']\n",
    "        ltd = city_data['coord']['lat']\n",
    "        lgt = city_data['coord']['lon']\n",
    "        temperature = city_data['main']['temp_max']\n",
    "        humid = city_data['main']['humidity']\n",
    "        cloud = city_data['clouds']['all']\n",
    "        winds = city_data['wind']['speed']\n",
    "        dates = city_data['dt']\n",
    "        \n",
    "        #append list after possible key errors finish\n",
    "        city_name.append(cn)\n",
    "        country.append(cty)\n",
    "        lat.append(ltd)\n",
    "        lng.append(lgt)\n",
    "        temp.append(temperature)\n",
    "        humidity.append(humid)\n",
    "        clouds.append(cloud)\n",
    "        wind.append(winds)\n",
    "        date.append(dates)\n",
    "       \n",
    "    except KeyError:\n",
    "        print(\"city name not found\")\n",
    "       \n",
    "        \n",
    "print(\"----------------------\")\n",
    "print(\"data retrieval complete\")"
   ]
  },
  {
   "cell_type": "markdown",
   "metadata": {},
   "source": [
    "### Convert Raw Data to DataFrame\n",
    "* Export the city data into a .csv.\n",
    "* Display the DataFrame"
   ]
  },
  {
   "cell_type": "code",
   "execution_count": 6,
   "metadata": {},
   "outputs": [],
   "source": [
    "# create a data frame with city and respective data points\n",
    "df = pd.DataFrame({\n",
    "    'City': city_name,\n",
    "    'Lat': lat,\n",
    "    'Lng': lng,\n",
    "    'Max Temp': temp,\n",
    "    'Humidity': humidity,\n",
    "    'Cloudiness': clouds,\n",
    "    'Wind Speed': wind,\n",
    "    'Country': country,\n",
    "    'Date': date\n",
    "})\n",
    "\n",
    "df\n",
    "\n",
    "df.to_csv(r'starter_code\\city_data.csv')"
   ]
  },
  {
   "cell_type": "code",
   "execution_count": 7,
   "metadata": {},
   "outputs": [
    {
     "data": {
      "text/html": [
       "<div>\n",
       "<style scoped>\n",
       "    .dataframe tbody tr th:only-of-type {\n",
       "        vertical-align: middle;\n",
       "    }\n",
       "\n",
       "    .dataframe tbody tr th {\n",
       "        vertical-align: top;\n",
       "    }\n",
       "\n",
       "    .dataframe thead th {\n",
       "        text-align: right;\n",
       "    }\n",
       "</style>\n",
       "<table border=\"1\" class=\"dataframe\">\n",
       "  <thead>\n",
       "    <tr style=\"text-align: right;\">\n",
       "      <th></th>\n",
       "      <th>Lat</th>\n",
       "      <th>Lng</th>\n",
       "      <th>Max Temp</th>\n",
       "      <th>Humidity</th>\n",
       "      <th>Cloudiness</th>\n",
       "      <th>Wind Speed</th>\n",
       "      <th>Date</th>\n",
       "    </tr>\n",
       "  </thead>\n",
       "  <tbody>\n",
       "    <tr>\n",
       "      <th>count</th>\n",
       "      <td>242.000000</td>\n",
       "      <td>242.000000</td>\n",
       "      <td>242.000000</td>\n",
       "      <td>242.000000</td>\n",
       "      <td>242.000000</td>\n",
       "      <td>242.000000</td>\n",
       "      <td>2.420000e+02</td>\n",
       "    </tr>\n",
       "    <tr>\n",
       "      <th>mean</th>\n",
       "      <td>19.705909</td>\n",
       "      <td>14.227273</td>\n",
       "      <td>57.635124</td>\n",
       "      <td>71.578512</td>\n",
       "      <td>48.702479</td>\n",
       "      <td>8.048554</td>\n",
       "      <td>1.603920e+09</td>\n",
       "    </tr>\n",
       "    <tr>\n",
       "      <th>std</th>\n",
       "      <td>35.023637</td>\n",
       "      <td>92.380651</td>\n",
       "      <td>22.123463</td>\n",
       "      <td>21.991983</td>\n",
       "      <td>39.804532</td>\n",
       "      <td>5.489653</td>\n",
       "      <td>6.179829e+01</td>\n",
       "    </tr>\n",
       "    <tr>\n",
       "      <th>min</th>\n",
       "      <td>-54.800000</td>\n",
       "      <td>-175.200000</td>\n",
       "      <td>-4.650000</td>\n",
       "      <td>13.000000</td>\n",
       "      <td>0.000000</td>\n",
       "      <td>0.310000</td>\n",
       "      <td>1.603919e+09</td>\n",
       "    </tr>\n",
       "    <tr>\n",
       "      <th>25%</th>\n",
       "      <td>-10.742500</td>\n",
       "      <td>-58.445000</td>\n",
       "      <td>42.367500</td>\n",
       "      <td>61.000000</td>\n",
       "      <td>1.000000</td>\n",
       "      <td>3.767500</td>\n",
       "      <td>1.603920e+09</td>\n",
       "    </tr>\n",
       "    <tr>\n",
       "      <th>50%</th>\n",
       "      <td>26.635000</td>\n",
       "      <td>17.185000</td>\n",
       "      <td>60.800000</td>\n",
       "      <td>77.000000</td>\n",
       "      <td>47.500000</td>\n",
       "      <td>6.930000</td>\n",
       "      <td>1.603920e+09</td>\n",
       "    </tr>\n",
       "    <tr>\n",
       "      <th>75%</th>\n",
       "      <td>49.735000</td>\n",
       "      <td>84.482500</td>\n",
       "      <td>76.945000</td>\n",
       "      <td>87.000000</td>\n",
       "      <td>90.000000</td>\n",
       "      <td>10.940000</td>\n",
       "      <td>1.603920e+09</td>\n",
       "    </tr>\n",
       "    <tr>\n",
       "      <th>max</th>\n",
       "      <td>78.220000</td>\n",
       "      <td>179.320000</td>\n",
       "      <td>93.520000</td>\n",
       "      <td>100.000000</td>\n",
       "      <td>100.000000</td>\n",
       "      <td>28.860000</td>\n",
       "      <td>1.603920e+09</td>\n",
       "    </tr>\n",
       "  </tbody>\n",
       "</table>\n",
       "</div>"
      ],
      "text/plain": [
       "              Lat         Lng    Max Temp    Humidity  Cloudiness  Wind Speed  \\\n",
       "count  242.000000  242.000000  242.000000  242.000000  242.000000  242.000000   \n",
       "mean    19.705909   14.227273   57.635124   71.578512   48.702479    8.048554   \n",
       "std     35.023637   92.380651   22.123463   21.991983   39.804532    5.489653   \n",
       "min    -54.800000 -175.200000   -4.650000   13.000000    0.000000    0.310000   \n",
       "25%    -10.742500  -58.445000   42.367500   61.000000    1.000000    3.767500   \n",
       "50%     26.635000   17.185000   60.800000   77.000000   47.500000    6.930000   \n",
       "75%     49.735000   84.482500   76.945000   87.000000   90.000000   10.940000   \n",
       "max     78.220000  179.320000   93.520000  100.000000  100.000000   28.860000   \n",
       "\n",
       "               Date  \n",
       "count  2.420000e+02  \n",
       "mean   1.603920e+09  \n",
       "std    6.179829e+01  \n",
       "min    1.603919e+09  \n",
       "25%    1.603920e+09  \n",
       "50%    1.603920e+09  \n",
       "75%    1.603920e+09  \n",
       "max    1.603920e+09  "
      ]
     },
     "execution_count": 7,
     "metadata": {},
     "output_type": "execute_result"
    }
   ],
   "source": [
    "# describe data set with mean, median, min, max, etc \n",
    "df.describe()\n"
   ]
  },
  {
   "cell_type": "markdown",
   "metadata": {},
   "source": [
    "## Inspect the data and remove the cities where the humidity > 100%.\n",
    "----\n",
    "Skip this step if there are no cities that have humidity > 100%. "
   ]
  },
  {
   "cell_type": "code",
   "execution_count": 8,
   "metadata": {},
   "outputs": [
    {
     "data": {
      "text/html": [
       "<div>\n",
       "<style scoped>\n",
       "    .dataframe tbody tr th:only-of-type {\n",
       "        vertical-align: middle;\n",
       "    }\n",
       "\n",
       "    .dataframe tbody tr th {\n",
       "        vertical-align: top;\n",
       "    }\n",
       "\n",
       "    .dataframe thead th {\n",
       "        text-align: right;\n",
       "    }\n",
       "</style>\n",
       "<table border=\"1\" class=\"dataframe\">\n",
       "  <thead>\n",
       "    <tr style=\"text-align: right;\">\n",
       "      <th></th>\n",
       "      <th>City</th>\n",
       "      <th>Lat</th>\n",
       "      <th>Lng</th>\n",
       "      <th>Max Temp</th>\n",
       "      <th>Humidity</th>\n",
       "      <th>Cloudiness</th>\n",
       "      <th>Wind Speed</th>\n",
       "      <th>Country</th>\n",
       "      <th>Date</th>\n",
       "    </tr>\n",
       "  </thead>\n",
       "  <tbody>\n",
       "  </tbody>\n",
       "</table>\n",
       "</div>"
      ],
      "text/plain": [
       "Empty DataFrame\n",
       "Columns: [City, Lat, Lng, Max Temp, Humidity, Cloudiness, Wind Speed, Country, Date]\n",
       "Index: []"
      ]
     },
     "execution_count": 8,
     "metadata": {},
     "output_type": "execute_result"
    }
   ],
   "source": [
    "df2 = df.loc[df['Humidity'] > 100]\n",
    "df2"
   ]
  },
  {
   "cell_type": "code",
   "execution_count": null,
   "metadata": {},
   "outputs": [],
   "source": [
    "#  Get the indices of cities that have humidity over 100%.\n"
   ]
  },
  {
   "cell_type": "code",
   "execution_count": null,
   "metadata": {},
   "outputs": [],
   "source": [
    "# Make a new DataFrame equal to the city data to drop all humidity outliers by index.\n",
    "# Passing \"inplace=False\" will make a copy of the city_data DataFrame, which we call \"clean_city_data\".\n"
   ]
  },
  {
   "cell_type": "code",
   "execution_count": null,
   "metadata": {},
   "outputs": [],
   "source": [
    "\n"
   ]
  },
  {
   "cell_type": "markdown",
   "metadata": {},
   "source": [
    "## Plotting the Data\n",
    "* Use proper labeling of the plots using plot titles (including date of analysis) and axes labels.\n",
    "* Save the plotted figures as .pngs."
   ]
  },
  {
   "cell_type": "markdown",
   "metadata": {},
   "source": [
    "## Latitude vs. Temperature Plot"
   ]
  },
  {
   "cell_type": "code",
   "execution_count": 9,
   "metadata": {
    "scrolled": true
   },
   "outputs": [
    {
     "data": {
      "image/png": "[encoded data removed]",
      "text/plain": [
       "<Figure size 432x288 with 1 Axes>"
      ]
     },
     "metadata": {
      "needs_background": "light"
     },
     "output_type": "display_data"
    }
   ],
   "source": [
    "# Establishing data in a scatter plot\n",
    "plt.scatter(df['Lat'], df['Max Temp'])\n",
    "\n",
    "# Incorporate the other graph properties\n",
    "plt.title('Latitude vs Temperature')\n",
    "plt.ylabel('Temperature')\n",
    "plt.xlabel('Temperature')\n",
    "plt.grid(True)\n",
    "\n",
    "# Show plot\n",
    "plt.show()\n",
    "\n",
    "#The closer to the equater the higher the temperature. "
   ]
  },
  {
   "cell_type": "markdown",
   "metadata": {},
   "source": [
    "## Latitude vs. Humidity Plot"
   ]
  },
  {
   "cell_type": "code",
   "execution_count": 10,
   "metadata": {},
   "outputs": [
    {
     "data": {
      "image/png": "[encoded data removed]",
      "text/plain": [
       "<Figure size 432x288 with 1 Axes>"
      ]
     },
     "metadata": {
      "needs_background": "light"
     },
     "output_type": "display_data"
    }
   ],
   "source": [
    "# Establishing data in a scatter plot\n",
    "plt.scatter(df['Lat'], df['Humidity'])\n",
    "\n",
    "# Incorporate the other graph properties\n",
    "plt.title('Latitude vs. Humidity')\n",
    "plt.ylabel('Humidity (%)')\n",
    "plt.xlabel('Latitude')\n",
    "plt.grid(True)\n",
    "\n",
    "# Show plot\n",
    "plt.show()\n",
    "\n",
    "#Lowest humidity % was in the 15-40 degree latitude. Everything else was between 40-100%"
   ]
  },
  {
   "cell_type": "markdown",
   "metadata": {},
   "source": [
    "## Latitude vs. Cloudiness Plot"
   ]
  },
  {
   "cell_type": "code",
   "execution_count": 11,
   "metadata": {},
   "outputs": [
    {
     "data": {
      "image/png": "[encoded data removed]",
      "text/plain": [
       "<Figure size 432x288 with 1 Axes>"
      ]
     },
     "metadata": {
      "needs_background": "light"
     },
     "output_type": "display_data"
    }
   ],
   "source": [
    "# Establishing data in a scatter plot\n",
    "plt.scatter(df['Lat'], df['Cloudiness'])\n",
    "\n",
    "# Incorporate the other graph properties\n",
    "plt.title('Latitude vs Cloudiness')\n",
    "plt.ylabel('Cloudiness')\n",
    "plt.xlabel('Latitude')\n",
    "plt.grid(True)\n",
    "\n",
    "# Show plot\n",
    "plt.show()\n",
    "\n",
    "#No consistency with latitude leading to cloudiness. "
   ]
  },
  {
   "cell_type": "markdown",
   "metadata": {},
   "source": [
    "## Latitude vs. Wind Speed Plot"
   ]
  },
  {
   "cell_type": "code",
   "execution_count": 12,
   "metadata": {},
   "outputs": [
    {
     "data": {
      "image/png": "[encoded data removed]",
      "text/plain": [
       "<Figure size 432x288 with 1 Axes>"
      ]
     },
     "metadata": {
      "needs_background": "light"
     },
     "output_type": "display_data"
    }
   ],
   "source": [
    "# Establishing data in a scatter plot\n",
    "plt.scatter(df['Lat'], df['Wind Speed'])\n",
    "\n",
    "# Incorporate the other graph properties\n",
    "plt.title('Latitude vs Wind Speed')\n",
    "plt.ylabel('Wind Speed (mph)')\n",
    "plt.xlabel('Latitude')\n",
    "plt.grid(True)\n",
    "\n",
    "# Show plot\n",
    "plt.show()\n",
    "\n",
    "#General recorded windspeed tends to be 15mph or less."
   ]
  },
  {
   "cell_type": "markdown",
   "metadata": {},
   "source": [
    "## Linear Regression"
   ]
  },
  {
   "cell_type": "code",
   "execution_count": 13,
   "metadata": {},
   "outputs": [],
   "source": [
    "northern = df.loc[df[\"Lat\"] >= 0,:]\n",
    "\n",
    "southern = df.loc[df[\"Lat\"] < 0,:]"
   ]
  },
  {
   "cell_type": "markdown",
   "metadata": {},
   "source": [
    "####  Northern Hemisphere - Max Temp vs. Latitude Linear Regression"
   ]
  },
  {
   "cell_type": "code",
   "execution_count": 14,
   "metadata": {},
   "outputs": [
    {
     "name": "stdout",
     "output_type": "stream",
     "text": [
      "The r-squared is: 0.7812304858396095\n"
     ]
    },
    {
     "data": {
      "image/png": "[encoded data removed]",
      "text/plain": [
       "<Figure size 432x288 with 1 Axes>"
      ]
     },
     "metadata": {
      "needs_background": "light"
     },
     "output_type": "display_data"
    }
   ],
   "source": [
    "# Print out the r-squared value along with the plot.\n",
    "x_values = northern['Max Temp']\n",
    "y_values = northern['Lat']\n",
    "(slope, intercept, rvalue, pvalue, stderr) = linregress(x_values, y_values)\n",
    "regress_values = x_values * slope + intercept\n",
    "line_eq = \"y = \" + str(round(slope,2)) + \"x + \" + str(round(intercept,2))\n",
    "plt.scatter(x_values,y_values)\n",
    "plt.plot(x_values,regress_values,\"r-\")\n",
    "plt.annotate(line_eq,(6,10),fontsize=15,color=\"red\")\n",
    "plt.xlabel('Max Temp')\n",
    "plt.ylabel('Latitude')\n",
    "print(f\"The r-squared is: {rvalue**2}\")\n",
    "plt.show()\n",
    "\n",
    "#Temperatures are highest at the lowest latitude"
   ]
  },
  {
   "cell_type": "markdown",
   "metadata": {},
   "source": [
    "####  Southern Hemisphere - Max Temp vs. Latitude Linear Regression"
   ]
  },
  {
   "cell_type": "code",
   "execution_count": 15,
   "metadata": {},
   "outputs": [
    {
     "name": "stdout",
     "output_type": "stream",
     "text": [
      "The r-squared is: 0.6858594037728215\n"
     ]
    },
    {
     "data": {
      "image/png": "[encoded data removed]",
      "text/plain": [
       "<Figure size 432x288 with 1 Axes>"
      ]
     },
     "metadata": {
      "needs_background": "light"
     },
     "output_type": "display_data"
    }
   ],
   "source": [
    "# Print out the r-squared value along with the plot.\n",
    "x_values = southern['Max Temp']\n",
    "y_values = southern['Lat']\n",
    "(slope, intercept, rvalue, pvalue, stderr) = linregress(x_values, y_values)\n",
    "regress_values = x_values * slope + intercept\n",
    "line_eq = \"y = \" + str(round(slope,2)) + \"x + \" + str(round(intercept,2))\n",
    "plt.scatter(x_values,y_values)\n",
    "plt.plot(x_values,regress_values,\"r-\")\n",
    "plt.annotate(line_eq,(6,10),fontsize=15,color=\"red\")\n",
    "plt.xlabel('Max Temp')\n",
    "plt.ylabel('Latitude')\n",
    "print(f\"The r-squared is: {rvalue**2}\")\n",
    "plt.show()\n",
    "\n",
    "#Temperatures are highest at the lowest latitude"
   ]
  },
  {
   "cell_type": "markdown",
   "metadata": {},
   "source": [
    "####  Northern Hemisphere - Humidity (%) vs. Latitude Linear Regression"
   ]
  },
  {
   "cell_type": "code",
   "execution_count": 16,
   "metadata": {},
   "outputs": [
    {
     "name": "stdout",
     "output_type": "stream",
     "text": [
      "The r-squared is: 0.11769818228457551\n"
     ]
    },
    {
     "data": {
      "image/png": "[encoded data removed]",
      "text/plain": [
       "<Figure size 432x288 with 1 Axes>"
      ]
     },
     "metadata": {
      "needs_background": "light"
     },
     "output_type": "display_data"
    }
   ],
   "source": [
    "# Print out the r-squared value along with the plot.\n",
    "x_values = northern['Humidity']\n",
    "y_values = northern['Lat']\n",
    "(slope, intercept, rvalue, pvalue, stderr) = linregress(x_values, y_values)\n",
    "regress_values = x_values * slope + intercept\n",
    "line_eq = \"y = \" + str(round(slope,2)) + \"x + \" + str(round(intercept,2))\n",
    "plt.scatter(x_values,y_values)\n",
    "plt.plot(x_values,regress_values,\"r-\")\n",
    "plt.annotate(line_eq,(6,10),fontsize=15,color=\"red\")\n",
    "plt.xlabel('Humidity (%)')\n",
    "plt.ylabel('Latitude')\n",
    "print(f\"The r-squared is: {rvalue**2}\")\n",
    "plt.show()\n",
    "\n",
    "#Higher rates of humidity appear for all latitudes while lower latitudes have more points of lower humidity. "
   ]
  },
  {
   "cell_type": "markdown",
   "metadata": {},
   "source": [
    "####  Southern Hemisphere - Humidity (%) vs. Latitude Linear Regression"
   ]
  },
  {
   "cell_type": "code",
   "execution_count": 17,
   "metadata": {},
   "outputs": [
    {
     "name": "stdout",
     "output_type": "stream",
     "text": [
      "The r-squared is: 0.0007417143549114459\n"
     ]
    },
    {
     "data": {
      "image/png": "[encoded data removed]",
      "text/plain": [
       "<Figure size 432x288 with 1 Axes>"
      ]
     },
     "metadata": {
      "needs_background": "light"
     },
     "output_type": "display_data"
    }
   ],
   "source": [
    "# Print out the r-squared value along with the plot.\n",
    "x_values = southern['Humidity']\n",
    "y_values = southern['Lat']\n",
    "(slope, intercept, rvalue, pvalue, stderr) = linregress(x_values, y_values)\n",
    "regress_values = x_values * slope + intercept\n",
    "line_eq = \"y = \" + str(round(slope,2)) + \"x + \" + str(round(intercept,2))\n",
    "plt.scatter(x_values,y_values)\n",
    "plt.plot(x_values,regress_values,\"r-\")\n",
    "plt.annotate(line_eq,(6,10),fontsize=15,color=\"red\")\n",
    "plt.xlabel('Humidity (%)')\n",
    "plt.ylabel('Latitude')\n",
    "print(f\"The r-squared is: {rvalue**2}\")\n",
    "plt.show()\n",
    "\n",
    "#All of the latitudes have a similar range of humidity %"
   ]
  },
  {
   "cell_type": "markdown",
   "metadata": {},
   "source": [
    "####  Northern Hemisphere - Cloudiness (%) vs. Latitude Linear Regression"
   ]
  },
  {
   "cell_type": "code",
   "execution_count": 18,
   "metadata": {},
   "outputs": [
    {
     "name": "stdout",
     "output_type": "stream",
     "text": [
      "The r-squared is: 0.03885117934222359\n"
     ]
    },
    {
     "data": {
      "image/png": "[encoded data removed]",
      "text/plain": [
       "<Figure size 432x288 with 1 Axes>"
      ]
     },
     "metadata": {
      "needs_background": "light"
     },
     "output_type": "display_data"
    }
   ],
   "source": [
    "# Print out the r-squared value along with the plot.\n",
    "x_values = northern['Cloudiness']\n",
    "y_values = northern['Lat']\n",
    "(slope, intercept, rvalue, pvalue, stderr) = linregress(x_values, y_values)\n",
    "regress_values = x_values * slope + intercept\n",
    "line_eq = \"y = \" + str(round(slope,2)) + \"x + \" + str(round(intercept,2))\n",
    "plt.scatter(x_values,y_values)\n",
    "plt.plot(x_values,regress_values,\"r-\")\n",
    "plt.annotate(line_eq,(6,10),fontsize=15,color=\"red\")\n",
    "plt.xlabel('Clounds (%)')\n",
    "plt.ylabel('Latitude')\n",
    "print(f\"The r-squared is: {rvalue**2}\")\n",
    "plt.show()\n",
    "\n",
    "#Cloudiness % appear mostly on the extremes of 0 or 100."
   ]
  },
  {
   "cell_type": "markdown",
   "metadata": {},
   "source": [
    "####  Southern Hemisphere - Cloudiness (%) vs. Latitude Linear Regression"
   ]
  },
  {
   "cell_type": "code",
   "execution_count": 19,
   "metadata": {},
   "outputs": [
    {
     "name": "stdout",
     "output_type": "stream",
     "text": [
      "The r-squared is: 0.037602648767633765\n"
     ]
    },
    {
     "data": {
      "image/png": "[encoded data removed]",
      "text/plain": [
       "<Figure size 432x288 with 1 Axes>"
      ]
     },
     "metadata": {
      "needs_background": "light"
     },
     "output_type": "display_data"
    }
   ],
   "source": [
    "# Print out the r-squared value along with the plot.\n",
    "x_values = southern['Cloudiness']\n",
    "y_values = southern['Lat']\n",
    "(slope, intercept, rvalue, pvalue, stderr) = linregress(x_values, y_values)\n",
    "regress_values = x_values * slope + intercept\n",
    "line_eq = \"y = \" + str(round(slope,2)) + \"x + \" + str(round(intercept,2))\n",
    "plt.scatter(x_values,y_values)\n",
    "plt.plot(x_values,regress_values,\"r-\")\n",
    "plt.annotate(line_eq,(6,10),fontsize=15,color=\"red\")\n",
    "plt.xlabel('Cloudiness (%)')\n",
    "plt.ylabel('Latitude')\n",
    "print(f\"The r-squared is: {rvalue**2}\")\n",
    "plt.show()\n",
    "\n",
    "#No real trend with cloudniess %"
   ]
  },
  {
   "cell_type": "markdown",
   "metadata": {},
   "source": [
    "####  Northern Hemisphere - Wind Speed (mph) vs. Latitude Linear Regression"
   ]
  },
  {
   "cell_type": "code",
   "execution_count": 20,
   "metadata": {},
   "outputs": [
    {
     "name": "stdout",
     "output_type": "stream",
     "text": [
      "The r-squared is: 0.08535210490049314\n"
     ]
    },
    {
     "data": {
      "image/png": "[encoded data removed]",
      "text/plain": [
       "<Figure size 432x288 with 1 Axes>"
      ]
     },
     "metadata": {
      "needs_background": "light"
     },
     "output_type": "display_data"
    }
   ],
   "source": [
    "# Print out the r-squared value along with the plot.\n",
    "x_values = northern['Wind Speed']\n",
    "y_values = northern['Lat']\n",
    "(slope, intercept, rvalue, pvalue, stderr) = linregress(x_values, y_values)\n",
    "regress_values = x_values * slope + intercept\n",
    "line_eq = \"y = \" + str(round(slope,2)) + \"x + \" + str(round(intercept,2))\n",
    "plt.scatter(x_values,y_values)\n",
    "plt.plot(x_values,regress_values,\"r-\")\n",
    "plt.annotate(line_eq,(6,10),fontsize=15,color=\"red\")\n",
    "plt.xlabel('Wind Speed (mph)')\n",
    "plt.ylabel('Latitude')\n",
    "print(f\"The r-squared is: {rvalue**2}\")\n",
    "plt.show()\n",
    "\n",
    "#General wind speed is under 15 mph for all latitudes."
   ]
  },
  {
   "cell_type": "markdown",
   "metadata": {},
   "source": [
    "####  Southern Hemisphere - Wind Speed (mph) vs. Latitude Linear Regression"
   ]
  },
  {
   "cell_type": "code",
   "execution_count": 21,
   "metadata": {},
   "outputs": [
    {
     "name": "stdout",
     "output_type": "stream",
     "text": [
      "The r-squared is: 0.04583914815526412\n"
     ]
    },
    {
     "data": {
      "image/png": "[encoded data removed]",
      "text/plain": [
       "<Figure size 432x288 with 1 Axes>"
      ]
     },
     "metadata": {
      "needs_background": "light"
     },
     "output_type": "display_data"
    }
   ],
   "source": [
    "# Print out the r-squared value along with the plot.\n",
    "x_values = southern['Wind Speed']\n",
    "y_values = southern['Lat']\n",
    "(slope, intercept, rvalue, pvalue, stderr) = linregress(x_values, y_values)\n",
    "regress_values = x_values * slope + intercept\n",
    "line_eq = \"y = \" + str(round(slope,2)) + \"x + \" + str(round(intercept,2))\n",
    "plt.scatter(x_values,y_values)\n",
    "plt.plot(x_values,regress_values,\"r-\")\n",
    "plt.annotate(line_eq,(6,10),fontsize=15,color=\"red\")\n",
    "plt.xlabel('Wind Speed (mph)')\n",
    "plt.ylabel('Latitude')\n",
    "print(f\"The r-squared is: {rvalue**2}\")\n",
    "plt.show()\n",
    "\n",
    "#Genearl wind speeds is under 15 mph for all latitudes. "
   ]
  },
  {
   "cell_type": "code",
   "execution_count": null,
   "metadata": {},
   "outputs": [],
   "source": []
  }
 ],
 "metadata": {
  "anaconda-cloud": {},
  "kernel_info": {
   "name": "python3"
  },
  "kernelspec": {
   "display_name": "Python 3",
   "language": "python",
   "name": "python3"
  },
  "language_info": {
   "codemirror_mode": {
    "name": "ipython",
    "version": 3
   },
   "file_extension": ".py",
   "mimetype": "text/x-python",
   "name": "python",
   "nbconvert_exporter": "python",
   "pygments_lexer": "ipython3",
   "version": "3.6.10"
  },
  "latex_envs": {
   "LaTeX_envs_menu_present": true,
   "autoclose": false,
   "autocomplete": true,
   "bibliofile": "biblio.bib",
   "cite_by": "apalike",
   "current_citInitial": 1,
   "eqLabelWithNumbers": true,
   "eqNumInitial": 1,
   "hotkeys": {
    "equation": "Ctrl-E",
    "itemize": "Ctrl-I"
   },
   "labels_anchors": false,
   "latex_user_defs": false,
   "report_style_numbering": false,
   "user_envs_cfg": false
  },
  "nteract": {
   "version": "0.12.3"
  }
 },
 "nbformat": 4,
 "nbformat_minor": 2
}
